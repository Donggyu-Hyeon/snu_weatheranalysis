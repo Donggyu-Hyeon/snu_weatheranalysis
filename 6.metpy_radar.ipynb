{
 "cells": [
  {
   "cell_type": "markdown",
   "metadata": {},
   "source": [
    "# 레이더 자료 내려받기와 시각화하기\n",
    "- Nexrad level 3\n",
    "- https://www.roc.noaa.gov/wsr88d/Level_III/Level3Info.aspx\n",
    "- https://www.ncdc.noaa.gov/data-access/radar-data/nexrad\n",
    "- https://www.ncdc.noaa.gov/data-access/radar-data/nexrad-products 참조\n",
    "- 미국 자료이지만 평택의 레이더 자료 사용 가능"
   ]
  },
  {
   "cell_type": "markdown",
   "metadata": {},
   "source": [
    "# 레이더 자료 받기\n",
    "- https://unidata.github.io/siphon/latest/examples/Radar_Server_Level_3.html 참조"
   ]
  },
  {
   "cell_type": "code",
   "execution_count": 14,
   "metadata": {},
   "outputs": [],
   "source": [
    "from datetime import datetime\n",
    "\n",
    "import matplotlib.pyplot as plt\n",
    "import numpy as np\n",
    "\n",
    "\n",
    "from siphon.radarserver import get_radarserver_datasets, RadarServer\n",
    "from siphon.cdmr import Dataset"
   ]
  },
  {
   "cell_type": "code",
   "execution_count": 15,
   "metadata": {},
   "outputs": [
    {
     "name": "stdout",
     "output_type": "stream",
     "text": [
      "['NEXRAD Level II Radar for Case Study CCS039', 'NEXRAD Level II Radar from IDD', 'NEXRAD Level III Radar for Case Study CCS039', 'NEXRAD Level III Radar from IDD', 'TDWR Level III Radar from IDD']\n"
     ]
    }
   ],
   "source": [
    "ds = get_radarserver_datasets('http://thredds.ucar.edu/thredds/')\n",
    "print(list(ds))"
   ]
  },
  {
   "cell_type": "code",
   "execution_count": 16,
   "metadata": {},
   "outputs": [],
   "source": [
    "url = ds['NEXRAD Level III Radar from IDD'].follow().catalog_url\n",
    "rs = RadarServer(url)"
   ]
  },
  {
   "cell_type": "markdown",
   "metadata": {},
   "source": [
    "자료 변수 목록\n",
    "https://www.weather.gov/media/tg/rpccds_radar_products.pdf"
   ]
  },
  {
   "cell_type": "code",
   "execution_count": 17,
   "metadata": {},
   "outputs": [
    {
     "name": "stdout",
     "output_type": "stream",
     "text": [
      "{'N1M', 'N2K', 'N3S', 'NST', 'DTA', 'N3M', 'N3H', 'N0K', 'N3U', 'DU3', 'NVW', 'N0Q', 'N0S', 'N0X', 'NBU', 'NVL', 'N1S', 'N3X', 'NAU', 'N0V', 'N2C', 'NAH', 'N2S', 'NAX', 'HHC', 'N2X', 'NAM', 'NBX', 'N0Z', 'NAC', 'DAA', 'NBQ', 'OHA', 'NBH', 'DSD', 'NMD', 'NAK', 'NBK', 'NAQ', 'N3C', 'N3K', 'NTP', 'N0C', 'PTA', 'DSP', 'N1X', 'NBM', 'N2U', 'NCR', 'N0M', 'DPA', 'DU6', 'N1H', 'N2H', 'NET', 'N2Q', 'N1K', 'N3Q', 'N0U', 'N1C', 'N1P', 'N0R', 'N0H', 'EET', 'DHR', 'DVL', 'N1Q', 'DPR', 'DOD', 'N2M', 'NBC', 'N1U'}\n"
     ]
    }
   ],
   "source": [
    "print(rs.variables)"
   ]
  },
  {
   "cell_type": "code",
   "execution_count": 18,
   "metadata": {},
   "outputs": [
    {
     "data": {
      "text/plain": [
       "True"
      ]
     },
     "execution_count": 18,
     "metadata": {},
     "output_type": "execute_result"
    }
   ],
   "source": [
    "query = rs.query()\n",
    "query.stations('KSG').time(datetime(2020,11,19,0)).variables('N0Q','N0U')\n",
    "rs.validate_query(query)\n",
    "# 관측지점 정보: https://www.roc.noaa.gov/WSR88D/Maps.aspx\n",
    "# 우리나라 평택:KSG, 군산:KJK (미군 기지)"
   ]
  },
  {
   "cell_type": "code",
   "execution_count": 19,
   "metadata": {},
   "outputs": [
    {
     "data": {
      "text/plain": [
       "var=N0U&var=N0Q&time=2020-11-19T00%3A00%3A00&stn=KSG"
      ]
     },
     "execution_count": 19,
     "metadata": {},
     "output_type": "execute_result"
    }
   ],
   "source": [
    "query.variables()"
   ]
  },
  {
   "cell_type": "code",
   "execution_count": 20,
   "metadata": {},
   "outputs": [
    {
     "name": "stdout",
     "output_type": "stream",
     "text": [
      "['Level3_KSG_N0Q_20201119_0002.nids', 'Level3_KSG_N0U_20201119_0002.nids']\n"
     ]
    }
   ],
   "source": [
    "catalog = rs.get_catalog(query)\n",
    "print(catalog.datasets)"
   ]
  },
  {
   "cell_type": "code",
   "execution_count": 33,
   "metadata": {},
   "outputs": [
    {
     "name": "stdout",
     "output_type": "stream",
     "text": [
      "{'OPENDAP': 'https://thredds.ucar.edu/thredds/dodsC/nexrad/level3/IDD/N0Q/KSG/20201119/Level3_KSG_N0Q_20201119_0002.nids', 'HTTPServer': 'https://thredds.ucar.edu/thredds/fileServer/nexrad/level3/IDD/N0Q/KSG/20201119/Level3_KSG_N0Q_20201119_0002.nids', 'CdmRemote': 'https://thredds.ucar.edu/thredds/cdmremote/nexrad/level3/IDD/N0Q/KSG/20201119/Level3_KSG_N0Q_20201119_0002.nids'}\n"
     ]
    }
   ],
   "source": [
    "ds1 = list(catalog.datasets.values())[0] # base reflectivity\n",
    "ds2 = list(catalog.datasets.values())[1] # raidal velocity\n",
    "print(ds1.access_urls)\n",
    "data1 = Dataset(ds1.access_urls['CdmRemote'])\n",
    "data2 = Dataset(ds2.access_urls['CdmRemote'])"
   ]
  },
  {
   "cell_type": "code",
   "execution_count": 34,
   "metadata": {},
   "outputs": [
    {
     "data": {
      "text/plain": [
       "OrderedDict([('elevation', <siphon.cdmr.dataset.Variable at 0x24d5229ab88>),\n",
       "             ('azimuth', <siphon.cdmr.dataset.Variable at 0x24d5229a788>),\n",
       "             ('gate', <siphon.cdmr.dataset.Variable at 0x24d5229a508>),\n",
       "             ('latitude', <siphon.cdmr.dataset.Variable at 0x24d5229a708>),\n",
       "             ('longitude', <siphon.cdmr.dataset.Variable at 0x24d5229aa48>),\n",
       "             ('altitude', <siphon.cdmr.dataset.Variable at 0x24d5229a408>),\n",
       "             ('rays_time', <siphon.cdmr.dataset.Variable at 0x24d5229ac88>),\n",
       "             ('BaseVelocityDV_RAW',\n",
       "              <siphon.cdmr.dataset.Variable at 0x24d52299808>),\n",
       "             ('BaseVelocityDV',\n",
       "              <siphon.cdmr.dataset.Variable at 0x24d522998c8>)])"
      ]
     },
     "execution_count": 34,
     "metadata": {},
     "output_type": "execute_result"
    }
   ],
   "source": [
    "data2.variables"
   ]
  },
  {
   "cell_type": "markdown",
   "metadata": {},
   "source": [
    "# 레이더 자료 시각화 하기\n",
    "- https://unidata.github.io/siphon/latest/examples/Radar_Server_Level_3.html\n",
    "- https://nbviewer.jupyter.org/gist/dopplershift/356f2e14832e9b676207 참조\n",
    "- 레이더 반사도와 시선속도"
   ]
  },
  {
   "cell_type": "code",
   "execution_count": 60,
   "metadata": {},
   "outputs": [],
   "source": [
    "import metpy.plots as mpplots\n",
    "ref_norm, ref_cmap = mpplots.ctables.registry.get_with_steps('NWSReflectivity', 5, 5)\n",
    "vel_norm, vel_cmap = mpplots.ctables.registry.get_with_steps('NWSVelocity', 5, 5)\n",
    "\n",
    "import matplotlib.pyplot as plt\n",
    "import cartopy.crs as ccrs\n",
    "import cartopy.feature as cfeature\n"
   ]
  },
  {
   "cell_type": "code",
   "execution_count": 59,
   "metadata": {},
   "outputs": [],
   "source": [
    "import numpy as np\n",
    "def raw_to_masked_float(var):\n",
    "\n",
    "    # Mask missing points\n",
    "    var = np.ma.array(var, mask=var==0)\n",
    "\n",
    "    return var\n",
    "\n",
    "def polar_to_cartesian(az, rng):\n",
    "    az_rad = np.deg2rad(az)[:, None]\n",
    "    x = rng * np.sin(az_rad)\n",
    "    y = rng * np.cos(az_rad)\n",
    "    return x, y"
   ]
  },
  {
   "cell_type": "code",
   "execution_count": 97,
   "metadata": {},
   "outputs": [],
   "source": [
    "rng = data1.variables['gate'][:] /1000.\n",
    "az = data1.variables['azimuth'][:]\n",
    "ref = data1.variables['BaseReflectivityDR'][:]\n",
    "ref = raw_to_masked_float(ref)\n",
    "x1, y1 = polar_to_cartesian(az, rng)\n",
    "\n",
    "rng = data2.variables['gate'][:] /1000.\n",
    "az = data2.variables['azimuth'][:]\n",
    "vel = data2.variables['BaseVelocityDV'][:]\n",
    "vel = raw_to_masked_float(vel)\n",
    "x2, y2 = polar_to_cartesian(az, rng)\n"
   ]
  },
  {
   "cell_type": "code",
   "execution_count": 108,
   "metadata": {},
   "outputs": [
    {
     "name": "stderr",
     "output_type": "stream",
     "text": [
      "C:\\Users\\DongGyu_Hyeon\\Miniconda3\\lib\\site-packages\\ipykernel_launcher.py:6: MatplotlibDeprecationWarning: shading='flat' when X and Y have the same dimensions as C is deprecated since 3.3.  Either specify the corners of the quadrilaterals with X and Y, or pass shading='auto', 'nearest' or 'gouraud', or set rcParams['pcolor.shading'].  This will become an error two minor releases later.\n",
      "  \n",
      "C:\\Users\\DongGyu_Hyeon\\Miniconda3\\lib\\site-packages\\ipykernel_launcher.py:15: MatplotlibDeprecationWarning: shading='flat' when X and Y have the same dimensions as C is deprecated since 3.3.  Either specify the corners of the quadrilaterals with X and Y, or pass shading='auto', 'nearest' or 'gouraud', or set rcParams['pcolor.shading'].  This will become an error two minor releases later.\n",
      "  from ipykernel import kernelapp as app\n"
     ]
    },
    {
     "data": {
      "image/png": "[encoded data removed]",
      "text/plain": [
       "<Figure size 864x432 with 2 Axes>"
      ]
     },
     "metadata": {
      "needs_background": "light"
     },
     "output_type": "display_data"
    }
   ],
   "source": [
    "fig = plt.figure(figsize=(12, 6))\n",
    "\n",
    "# Base reflectivity\n",
    "ax = fig.add_subplot(121)\n",
    "ax.set_aspect('equal', 'datalim')\n",
    "ax.pcolormesh(x1, y1, ref, cmap=ref_cmap, norm=ref_norm)\n",
    "ax.set_xlim(-460, 460)\n",
    "ax.set_ylim(-460, 460)\n",
    "text = ax.set_title(data.time_coverage_start, transform=ax.transAxes,\n",
    "                   fontsize=16)\n",
    "\n",
    "# Base radial velocity\n",
    "ax2 = fig.add_subplot(122)\n",
    "ax2.set_aspect('equal', 'datalim')\n",
    "mesh2 = ax2.pcolormesh(x2, y2, vel, cmap=vel_cmap, norm=vel_norm)\n",
    "ax2.set_xlim(-360, 360)\n",
    "ax2.set_ylim(-360, 360)\n",
    "text = ax2.set_title(data.time_coverage_start, transform=ax2.transAxes,\n",
    "                   fontsize=16)\n",
    "\n",
    "plt.show()"
   ]
  }
 ],
 "metadata": {
  "kernelspec": {
   "display_name": "Python 3",
   "language": "python",
   "name": "python3"
  },
  "language_info": {
   "codemirror_mode": {
    "name": "ipython",
    "version": 3
   },
   "file_extension": ".py",
   "mimetype": "text/x-python",
   "name": "python",
   "nbconvert_exporter": "python",
   "pygments_lexer": "ipython3",
   "version": "3.7.9"
  }
 },
 "nbformat": 4,
 "nbformat_minor": 4
}
