{
 "cells": [
  {
   "cell_type": "markdown",
   "metadata": {},
   "source": [
    "# Pandas 패키지\n",
    "- 데이터를 분석하기 위한 패키지입니다\n",
    "- excel과 유사한 기능을 한다고 생각하면 됩니다"
   ]
  },
  {
   "cell_type": "code",
   "execution_count": 2,
   "metadata": {},
   "outputs": [],
   "source": [
    "# 패키지를 사용하려면 그 패키지를 임포트(import)해야 합니다\n",
    "# pandas 패키지를 작업 중인 코드에 불러옵니다\n",
    "# 아래 코드는 pandas 패키지를 pd라는 이름으로 불러오는 코드입니다\n",
    "import pandas as pd "
   ]
  },
  {
   "cell_type": "markdown",
   "metadata": {},
   "source": [
    "# Pandas의 자료 구조\n",
    "- Series: 1차원 배열 형태의 자료 구조 (행만 있음)\n",
    "- DataFrame: 2차원 배열 형태의 자료 구조 (행과 열이 있음, 엑셀과 유사)\n",
    "- index열이 추가되는데, 이 index를 통해 딕셔너리와 유사하게 자료에 접근할 수 있습니다."
   ]
  },
  {
   "cell_type": "markdown",
   "metadata": {},
   "source": [
    "# Series"
   ]
  },
  {
   "cell_type": "code",
   "execution_count": 16,
   "metadata": {},
   "outputs": [
    {
     "data": {
      "text/plain": [
       "0    1011\n",
       "1     996\n",
       "2    1023\n",
       "3     986\n",
       "dtype: int64"
      ]
     },
     "execution_count": 16,
     "metadata": {},
     "output_type": "execute_result"
    }
   ],
   "source": [
    "mslp = [1011, 996, 1023, 986]\n",
    "series = pd.Series(mslp)      # 가지고 있는 자료를 pandas series 객체로 만드는 명령\n",
    "series"
   ]
  },
  {
   "cell_type": "code",
   "execution_count": 17,
   "metadata": {},
   "outputs": [
    {
     "name": "stdout",
     "output_type": "stream",
     "text": [
      "Seoul        1011\n",
      "Ulleungdo     996\n",
      "Beijing      1023\n",
      "Tokyo         986\n",
      "dtype: int64\n",
      "1011\n"
     ]
    }
   ],
   "source": [
    "# 인덱스 추가\n",
    "station = ['Seoul','Ulleungdo','Beijing','Tokyo']\n",
    "series = pd.Series(mslp, index=station)\n",
    "print(series)\n",
    "print(series['Seoul'])"
   ]
  },
  {
   "cell_type": "code",
   "execution_count": 18,
   "metadata": {},
   "outputs": [
    {
     "name": "stdout",
     "output_type": "stream",
     "text": [
      "Seoul        1011.0\n",
      "Ulleungdo     996.0\n",
      "Beijing      1023.0\n",
      "Tokyo         986.0\n",
      "Busan           NaN\n",
      "dtype: float64\n",
      "Seoul        False\n",
      "Ulleungdo    False\n",
      "Beijing      False\n",
      "Tokyo        False\n",
      "Busan         True\n",
      "dtype: bool\n"
     ]
    }
   ],
   "source": [
    "# 누락된 자료\n",
    "mslp = {'Seoul':1011, 'Ulleungdo':996, 'Beijing':1023, 'Tokyo':986}\n",
    "station = ['Seoul','Ulleungdo','Beijing','Tokyo','Busan']\n",
    "series = pd.Series(mslp, index=station)\n",
    "print(series) # Busan의 자료가 없어 NaN이라고 나타남\n",
    "print(series.isnull()) # 자료의 누락 여부를 행별로 나타내는 명령"
   ]
  },
  {
   "cell_type": "code",
   "execution_count": 19,
   "metadata": {},
   "outputs": [
    {
     "name": "stdout",
     "output_type": "stream",
     "text": [
      "Beijing         NaN\n",
      "Busan           NaN\n",
      "Seoul        1012.5\n",
      "Tokyo         988.0\n",
      "Ulleungdo     997.0\n",
      "dtype: float64\n"
     ]
    }
   ],
   "source": [
    "# Series 객체 간의 연산\n",
    "# index 끼리\n",
    "today_mslp = series\n",
    "tomorrow_mslp = pd.Series({'Seoul':1014, 'Ulleungdo':998, 'Tokyo':990, 'Busan':1000})\n",
    "print((today_mslp + tomorrow_mslp) / 2.)\n",
    "# 자료의 누락이 없는 인덱스에 대해서만 연산이 수행되고, 나머지는 누락으로 처리됨을 알 수 있음"
   ]
  },
  {
   "cell_type": "markdown",
   "metadata": {},
   "source": [
    "# DataFrame"
   ]
  },
  {
   "cell_type": "code",
   "execution_count": 25,
   "metadata": {},
   "outputs": [
    {
     "name": "stdout",
     "output_type": "stream",
     "text": [
      "   mslp1  mslp2    station\n",
      "0   1011   1014      Seoul\n",
      "1    996    998  Ulleungdo\n",
      "2   1023   1020    Beijing\n",
      "3    986    992      Tokyo\n",
      "4    994    998      Busan\n"
     ]
    }
   ],
   "source": [
    "data = {'mslp1':[1011,996,1023,986,994], 'mslp2':[1014,998,1020,992,998], 'station':station}\n",
    "mslp = pd.DataFrame(data)\n",
    "print(mslp)"
   ]
  },
  {
   "cell_type": "markdown",
   "metadata": {},
   "source": [
    "좀더 자세한 내용은 https://pandas.pydata.org/pandas-docs/stable/user_guide/10min.html 참조"
   ]
  }
 ],
 "metadata": {
  "kernelspec": {
   "display_name": "Python 3",
   "language": "python",
   "name": "python3"
  },
  "language_info": {
   "codemirror_mode": {
    "name": "ipython",
    "version": 3
   },
   "file_extension": ".py",
   "mimetype": "text/x-python",
   "name": "python",
   "nbconvert_exporter": "python",
   "pygments_lexer": "ipython3",
   "version": "3.7.7"
  }
 },
 "nbformat": 4,
 "nbformat_minor": 4
}
