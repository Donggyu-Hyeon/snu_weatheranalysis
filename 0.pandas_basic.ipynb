{
 "cells": [
  {
   "cell_type": "markdown",
   "metadata": {},
   "source": [
    "# Pandas 패키지\n",
    "- 데이터를 분석하기 위한 패키지입니다\n",
    "- excel과 유사한 기능을 한다고 생각하면 됩니다"
   ]
  },
  {
   "cell_type": "code",
   "execution_count": 1,
   "metadata": {},
   "outputs": [],
   "source": [
    "# 패키지를 사용하려면 그 패키지를 임포트(import)해야 합니다\n",
    "# pandas 패키지를 작업 중인 코드에 불러옵니다\n",
    "# 아래 코드는 pandas 패키지를 pd라는 이름으로 불러오는 코드입니다\n",
    "import pandas as pd "
   ]
  },
  {
   "cell_type": "markdown",
   "metadata": {},
   "source": [
    "# Pandas의 자료 구조\n",
    "- Series: 1차원 배열 형태의 자료 구조 (행만 있음)\n",
    "- DataFrame: 2차원 배열 형태의 자료 구조 (행과 열이 있음, 엑셀과 유사)\n",
    "- index열이 추가되는데, 이 index를 통해 딕셔너리와 유사하게 자료에 접근할 수 있습니다."
   ]
  },
  {
   "cell_type": "markdown",
   "metadata": {},
   "source": [
    "# Series"
   ]
  },
  {
   "cell_type": "code",
   "execution_count": 2,
   "metadata": {},
   "outputs": [
    {
     "data": {
      "text/plain": [
       "0    1011\n",
       "1     996\n",
       "2    1023\n",
       "3     986\n",
       "dtype: int64"
      ]
     },
     "execution_count": 2,
     "metadata": {},
     "output_type": "execute_result"
    }
   ],
   "source": [
    "mslp = [1011, 996, 1023, 986]\n",
    "series = pd.Series(mslp)      # 가지고 있는 자료를 pandas series 객체로 만드는 명령\n",
    "series"
   ]
  },
  {
   "cell_type": "code",
   "execution_count": 3,
   "metadata": {},
   "outputs": [
    {
     "name": "stdout",
     "output_type": "stream",
     "text": [
      "Seoul        1011\n",
      "Ulleungdo     996\n",
      "Beijing      1023\n",
      "Tokyo         986\n",
      "dtype: int64\n",
      "1011\n"
     ]
    }
   ],
   "source": [
    "# 인덱스 추가\n",
    "station = ['Seoul','Ulleungdo','Beijing','Tokyo']\n",
    "series = pd.Series(mslp, index=station)\n",
    "print(series)\n",
    "print(series['Seoul'])"
   ]
  },
  {
   "cell_type": "code",
   "execution_count": 4,
   "metadata": {},
   "outputs": [
    {
     "name": "stdout",
     "output_type": "stream",
     "text": [
      "Seoul        1011.0\n",
      "Ulleungdo     996.0\n",
      "Beijing      1023.0\n",
      "Tokyo         986.0\n",
      "Busan           NaN\n",
      "dtype: float64\n",
      "Seoul        False\n",
      "Ulleungdo    False\n",
      "Beijing      False\n",
      "Tokyo        False\n",
      "Busan         True\n",
      "dtype: bool\n"
     ]
    }
   ],
   "source": [
    "# 누락된 자료\n",
    "mslp = {'Seoul':1011, 'Ulleungdo':996, 'Beijing':1023, 'Tokyo':986}\n",
    "station = ['Seoul','Ulleungdo','Beijing','Tokyo','Busan']\n",
    "series = pd.Series(mslp, index=station)\n",
    "print(series) # Busan의 자료가 없어 NaN이라고 나타남\n",
    "print(series.isnull()) # 자료의 누락 여부를 행별로 나타내는 명령"
   ]
  },
  {
   "cell_type": "code",
   "execution_count": 5,
   "metadata": {},
   "outputs": [
    {
     "name": "stdout",
     "output_type": "stream",
     "text": [
      "Beijing         NaN\n",
      "Busan           NaN\n",
      "Seoul        1012.5\n",
      "Tokyo         988.0\n",
      "Ulleungdo     997.0\n",
      "dtype: float64\n"
     ]
    }
   ],
   "source": [
    "# Series 객체 간의 연산\n",
    "# index 끼리\n",
    "today_mslp = series\n",
    "tomorrow_mslp = pd.Series({'Seoul':1014, 'Ulleungdo':998, 'Tokyo':990, 'Busan':1000})\n",
    "print((today_mslp + tomorrow_mslp) / 2.)\n",
    "# 자료의 누락이 없는 인덱스에 대해서만 연산이 수행되고, 나머지는 누락으로 처리됨을 알 수 있음"
   ]
  },
  {
   "cell_type": "markdown",
   "metadata": {},
   "source": [
    "# DataFrame"
   ]
  },
  {
   "cell_type": "code",
   "execution_count": 6,
   "metadata": {},
   "outputs": [
    {
     "name": "stdout",
     "output_type": "stream",
     "text": [
      "   mslp  temp    station\n",
      "0  1011  24.1      Seoul\n",
      "1   996  23.2  Ulleungdo\n",
      "2  1023  25.4    Beijing\n",
      "3   986  21.4      Tokyo\n",
      "4   994  22.0      Busan\n"
     ]
    }
   ],
   "source": [
    "# Station\n",
    "data = {'mslp':[1011,996,1023,986,994], 'temp':[24.1,23.2,25.4,21.4,22.0], 'station':station}\n",
    "weather = pd.DataFrame(data)\n",
    "print(weather)"
   ]
  },
  {
   "cell_type": "markdown",
   "metadata": {},
   "source": [
    "좀더 자세한 내용은 https://pandas.pydata.org/pandas-docs/stable/user_guide/10min.html 참조"
   ]
  },
  {
   "cell_type": "code",
   "execution_count": 7,
   "metadata": {},
   "outputs": [
    {
     "name": "stdout",
     "output_type": "stream",
     "text": [
      "2021-09-17 10:00:00 2021-09-18 10:00:00 1 day, 0:00:00\n",
      "                     temperature  relative_humidity\n",
      "2021-09-16 00:00:00           22                 70\n",
      "2021-09-16 02:00:00           21                 75\n",
      "2021-09-16 04:00:00           20                 75\n",
      "2021-09-16 06:00:00           21                 80\n",
      "2021-09-16 08:00:00           23                 75\n",
      "2021-09-16 10:00:00           25                 70\n",
      "2021-09-16 12:00:00           26                 60\n",
      "2021-09-16 14:00:00           28                 55\n",
      "2021-09-16 16:00:00           27                 50\n",
      "2021-09-16 18:00:00           26                 50\n",
      "2021-09-16 20:00:00           24                 55\n",
      "2021-09-16 22:00:00           23                 65\n"
     ]
    }
   ],
   "source": [
    "# Time series\n",
    "import datetime\n",
    "t1 = datetime.datetime(2021,9,17,10)\n",
    "t2 = datetime.datetime(2021,9,18,10)\n",
    "td = t2 - t1\n",
    "print(t1, t2, td)\n",
    "\n",
    "time = [datetime.datetime(2021,9,16,2*i) for i in range(12)]\n",
    "temp = [22,21,20,21,23,25,26,28,27,26,24,23]\n",
    "relh = [70,75,75,80,75,70,60,55,50,50,55,65]\n",
    "data = {'temperature':temp, 'relative_humidity':relh}\n",
    "time_series = pd.DataFrame(data, index=time)\n",
    "print(time_series)"
   ]
  },
  {
   "cell_type": "markdown",
   "metadata": {},
   "source": [
    "# 관측소 시간 자료 받아서 읽기\n",
    " - 기상자료개방포털 data.kma.go.kr (회원가입 필요)\n",
    " -  데이터 > 기상관측 > 지상 > 종관기상관측(ASOS)\n",
    " - 자료형태: 시간, 기간과 지점 선택\n"
   ]
  },
  {
   "cell_type": "code",
   "execution_count": 15,
   "metadata": {},
   "outputs": [
    {
     "name": "stdout",
     "output_type": "stream",
     "text": [
      "C:\\Users\\DongGyu_Hyeon\\Downloads\\OBS_ASOS_TIM_20210916210208.csv\n",
      "Index(['지점', '지점명', '일시', '기온(°C)', '기온 QC플래그', '강수량(mm)', '강수량 QC플래그',\n",
      "       '풍속(m/s)', '풍속 QC플래그', '풍향(16방위)', '풍향 QC플래그', '습도(%)', '습도 QC플래그',\n",
      "       '증기압(hPa)', '이슬점온도(°C)', '현지기압(hPa)', '현지기압 QC플래그', '해면기압(hPa)',\n",
      "       '해면기압 QC플래그', '일조(hr)', '일조 QC플래그', '일사(MJ/m2)', '일사 QC플래그', '적설(cm)',\n",
      "       '3시간신적설(cm)', '전운량(10분위)', '중하층운량(10분위)', '운형(운형약어)', '최저운고(100m )',\n",
      "       '시정(10m)', '지면상태(지면상태코드)', '현상번호(국내식)', '지면온도(°C)', '지면온도 QC플래그',\n",
      "       '5cm 지중온도(°C)', '10cm 지중온도(°C)', '20cm 지중온도(°C)', '30cm 지중온도(°C)'],\n",
      "      dtype='object')\n",
      "    지점 지점명                일시  기온(°C)  기온 QC플래그  강수량(mm)  강수량 QC플래그  풍속(m/s)  \\\n",
      "0  108  서울  2021-09-15 00:00    22.2       NaN      NaN        NaN      4.6   \n",
      "1  108  서울  2021-09-15 01:00    21.5       NaN      NaN        NaN      3.2   \n",
      "2  108  서울  2021-09-15 02:00    21.1       NaN      NaN        NaN      2.9   \n",
      "3  108  서울  2021-09-15 03:00    20.9       NaN      NaN        NaN      3.1   \n",
      "4  108  서울  2021-09-15 04:00    20.5       NaN      NaN        NaN      2.3   \n",
      "\n",
      "   풍속 QC플래그  풍향(16방위)  ...  최저운고(100m )  시정(10m)  지면상태(지면상태코드)  현상번호(국내식)  \\\n",
      "0       NaN        50  ...          NaN     2000           NaN        NaN   \n",
      "1       NaN        50  ...          NaN     2000           NaN        NaN   \n",
      "2       NaN        50  ...          NaN     2000           NaN        NaN   \n",
      "3       NaN        70  ...          NaN     2000           NaN        NaN   \n",
      "4       NaN        50  ...          NaN     2000           NaN        NaN   \n",
      "\n",
      "   지면온도(°C)  지면온도 QC플래그  5cm 지중온도(°C)  10cm 지중온도(°C)  20cm 지중온도(°C)  \\\n",
      "0      20.4         NaN          25.1           25.0           25.3   \n",
      "1      19.9         NaN          24.8           24.7           25.1   \n",
      "2      19.5         NaN          24.5           24.5           24.9   \n",
      "3      19.2         NaN          24.2           24.2           24.7   \n",
      "4      18.8         NaN          24.0           24.0           24.5   \n",
      "\n",
      "   30cm 지중온도(°C)  \n",
      "0           25.3  \n",
      "1           25.2  \n",
      "2           25.1  \n",
      "3           25.1  \n",
      "4           25.0  \n",
      "\n",
      "[5 rows x 38 columns]\n"
     ]
    }
   ],
   "source": [
    "# READ the CSV file\n",
    "import os\n",
    "path = 'C:\\\\Users\\\\DongGyu_Hyeon\\\\Downloads'  # 파일의 위치\n",
    "fname = 'OBS_ASOS_TIM_20210916210208.csv'     # 파일의 이름\n",
    "fpath = os.path.join(path,fname)\n",
    "print(fpath)\n",
    "\n",
    "df = pd.read_csv(fpath, encoding='euc_kr')\n",
    "print(df.keys())\n",
    "print(df.head())"
   ]
  },
  {
   "cell_type": "code",
   "execution_count": 20,
   "metadata": {},
   "outputs": [
    {
     "data": {
      "image/png": "[encoded data removed]",
      "text/plain": [
       "<Figure size 720x432 with 1 Axes>"
      ]
     },
     "metadata": {
      "needs_background": "light"
     },
     "output_type": "display_data"
    }
   ],
   "source": [
    "import matplotlib.pyplot as plt\n",
    "df = pd.read_csv(fpath, encoding='euc_kr')\n",
    "df['일시'] = pd.to_datetime(df['일시'], format='%Y-%m-%d %H:00')\n",
    "df = df.set_index('일시')\n",
    "fig, ax = plt.subplots(figsize=(10,6))\n",
    "ax.plot(df['기온(°C)'])\n",
    "ax.set_xlabel('Local time')\n",
    "ax.set_ylabel('temperature [°C]')\n",
    "ax.set_title('Seoul')\n",
    "plt.show()"
   ]
  },
  {
   "cell_type": "markdown",
   "metadata": {},
   "source": [
    "# 연습문제\n",
    "- 기상자료개방포털에서 원하는 지점의 어제 시간 자료를 내려받기\n",
    "- pandas로 이를 읽기\n",
    "- pyplot으로 시간에 따른 기온과 해면기압의 변화를 그리기\n",
    "- 한 그림 안에 기온과 해면기압이 같이 나오도록 그리기 (왼쪽 세로축: 기온, 오른쪽 세로축: 해면기압, hint: twinx)"
   ]
  }
 ],
 "metadata": {
  "kernelspec": {
   "display_name": "Python 3 (ipykernel)",
   "language": "python",
   "name": "python3"
  },
  "language_info": {
   "codemirror_mode": {
    "name": "ipython",
    "version": 3
   },
   "file_extension": ".py",
   "mimetype": "text/x-python",
   "name": "python",
   "nbconvert_exporter": "python",
   "pygments_lexer": "ipython3",
   "version": "3.9.6"
  }
 },
 "nbformat": 4,
 "nbformat_minor": 4
}
