{
 "cells": [
  {
   "cell_type": "markdown",
   "metadata": {},
   "source": [
    "# 파이썬의 자료형\n",
    "- 숫자형\n",
    "- 문자열\n",
    "- 리스트\n",
    "- 딕셔너리"
   ]
  },
  {
   "cell_type": "code",
   "execution_count": 1,
   "metadata": {},
   "outputs": [
    {
     "data": {
      "text/plain": [
       "30"
      ]
     },
     "execution_count": 1,
     "metadata": {},
     "output_type": "execute_result"
    }
   ],
   "source": [
    "# 숫자형 (#는 주석표시, 해당 줄은 실행 x)\n",
    "a = 153  # 정수형 integer (int)\n",
    "b = 1.53 # 실수형 float\n",
    "a + b    # 덧셈\n",
    "a * b    # 곱셈\n",
    "a / b    # 나눗셈\n",
    "b ** a   # b의 a 제곱\n",
    "c = 5 \n",
    "a % c    # 나머지\n",
    "a // c   # 몫"
   ]
  },
  {
   "cell_type": "code",
   "execution_count": 5,
   "metadata": {},
   "outputs": [
    {
     "name": "stdout",
     "output_type": "stream",
     "text": [
      "Hello World\n",
      "I said 'Hello world'\n",
      "this is how to space \n",
      "see?\n",
      "this is str sum\n",
      "5\n",
      "i\n",
      "n\n",
      "x\n",
      "this\n",
      "slicing\n",
      "this is slicing\n"
     ]
    }
   ],
   "source": [
    "# 문자열 string\n",
    "print(\"Hello World\")\n",
    "print(\"I said 'Hello world'\")\n",
    "print('this is how to space \\nsee?')\n",
    "a = 'this is '\n",
    "b = 'str sum'\n",
    "print(a + b)\n",
    "c = 'hello'\n",
    "print(len(c)) # length of the string\n",
    "\n",
    "# 인덱싱과 슬라이싱 indexing slicing\n",
    "a = 'index'\n",
    "print(a[0]) # first ~ 0\n",
    "print(a[1])\n",
    "print(a[-1]) # last ~ -1\n",
    "b = 'this is slicing'\n",
    "print(b[0:4]) # get b[0]+b[1]+b[2]+b[3]\n",
    "print(b[-7:])\n",
    "print(b[:]) # we get the whole string"
   ]
  },
  {
   "cell_type": "code",
   "execution_count": 7,
   "metadata": {},
   "outputs": [
    {
     "name": "stdout",
     "output_type": "stream",
     "text": [
      "9\n",
      "[1, 4, 3]\n",
      "[1, 4, 3, 9, 1, 4, 3, 9]\n",
      "[1, 4, 3, 3]\n",
      "[1, 4, 3, 3, 5]\n",
      "4\n",
      "5\n"
     ]
    }
   ],
   "source": [
    "# 리스트 list\n",
    "a = [1,4,3,9]\n",
    "print(a[3])   # get  4th integer in a\n",
    "print(a[0:3]) # get list\n",
    "print(a+a)\n",
    "a[3] = 3\n",
    "print(a)\n",
    "\n",
    "a.append(5)  \n",
    "print(a)\n",
    "print(a.index(5)) # index of 5 in b\n",
    "print(len(a))     # the number of components in a"
   ]
  },
  {
   "cell_type": "code",
   "execution_count": 9,
   "metadata": {},
   "outputs": [
    {
     "name": "stdout",
     "output_type": "stream",
     "text": [
      "Gildong\n",
      "010-9999-9999\n",
      "dict_keys(['name', 'phone', 'birth'])\n",
      "dict_values(['Gildong', '010-9999-9999', '901111'])\n"
     ]
    }
   ],
   "source": [
    "# 딕셔너리 dictionary\n",
    "# {key: value}의 형태\n",
    "a = {'name':'Gildong', 'phone':'010-9999-9999', 'birth':'901111'}\n",
    "print(a['name'])\n",
    "print(a['phone'])\n",
    "print(a.keys())\n",
    "print(a.values())"
   ]
  },
  {
   "cell_type": "markdown",
   "metadata": {},
   "source": [
    "# 파이썬 제어문\n",
    "- for 문\n",
    "- if 문"
   ]
  },
  {
   "cell_type": "code",
   "execution_count": 1,
   "metadata": {},
   "outputs": [
    {
     "name": "stdout",
     "output_type": "stream",
     "text": [
      "3\n",
      "5\n",
      "7\n",
      "9\n"
     ]
    }
   ],
   "source": [
    "# for 문\n",
    "# i 자리의 변수가 in 다음에 오는 리스트의 각 요소로 차례로 대입 되어 명령을 수행\n",
    "for i in [3,5,7,9]:\n",
    "    print(i) # 파이썬은 제어문을 사용할 때 tab이나 space 4개가 꼭 들어가야 함! (block, indent)\n"
   ]
  },
  {
   "cell_type": "code",
   "execution_count": 2,
   "metadata": {},
   "outputs": [
    {
     "name": "stdout",
     "output_type": "stream",
     "text": [
      "3\n"
     ]
    }
   ],
   "source": [
    "# if 문\n",
    "# if 다음에 참, 거짓을 따지는 연산을 수행, True 값이면 명령을 수행, False 값이면 수행하지 않음\n",
    "a = 3\n",
    "if (a > 1):\n",
    "    print(a)\n",
    "else:\n",
    "    a = a + 1 # 위의 연산이 거짓일 때 수행하는 명령"
   ]
  },
  {
   "cell_type": "markdown",
   "metadata": {},
   "source": [
    "좀더 자세한 정보를 원하면 python 공식 documentation이나\n",
    "https://wikidocs.net/book/1 등 참조"
   ]
  }
 ],
 "metadata": {
  "kernelspec": {
   "display_name": "Python 3",
   "language": "python",
   "name": "python3"
  },
  "language_info": {
   "codemirror_mode": {
    "name": "ipython",
    "version": 3
   },
   "file_extension": ".py",
   "mimetype": "text/x-python",
   "name": "python",
   "nbconvert_exporter": "python",
   "pygments_lexer": "ipython3",
   "version": "3.7.7"
  }
 },
 "nbformat": 4,
 "nbformat_minor": 4
}
